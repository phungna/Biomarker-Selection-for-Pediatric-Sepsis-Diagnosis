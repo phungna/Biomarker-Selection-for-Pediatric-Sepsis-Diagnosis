{
 "cells": [
  {
   "cell_type": "code",
   "execution_count": 1,
   "id": "95343cb9",
   "metadata": {},
   "outputs": [],
   "source": [
    "import numpy as np\n",
    "import pandas as pd\n",
    "import matplotlib.pyplot as plt\n",
    "%matplotlib inline   \n",
    "import seaborn as sns\n",
    "import warnings\n",
    "import matplotlib as mpl\n",
    "\n",
    "\n",
    "from scipy import stats\n",
    "from sklearn.linear_model import SGDClassifier\n",
    "from sklearn.preprocessing import MinMaxScaler\n",
    "from sklearn.pipeline import make_pipeline\n",
    "from skrebate import ReliefF\n",
    "from sklearn.decomposition import PCA\n",
    "from sklearn.ensemble import RandomForestClassifier\n",
    "from sklearn.model_selection import cross_val_score\n",
    "from rdea.filters.mrmr import MRMRP\n",
    "from rdea.utils.help_functions import model_based_relevance, auc_relevance, load_DEGs\n",
    "\n",
    "# Set random seed\n",
    "seed = 7\n",
    "np.random.seed(seed)\n",
    "pca = PCA(0.95)"
   ]
  },
  {
   "cell_type": "code",
   "execution_count": 2,
   "id": "60225e51",
   "metadata": {},
   "outputs": [
    {
     "name": "stdout",
     "output_type": "stream",
     "text": [
      "108 DEGs loaded!\n"
     ]
    }
   ],
   "source": [
    "# in and out files\n",
    "data_file = './data/GSE66099.csv'\n",
    "degs_file = './data/GSE66099_DEGs.txt'\n",
    "out_file = './results/sepsis/fs_scores.csv'\n",
    "is_save_results = True\n",
    "\n",
    "# data pre-processing\n",
    "norm_filter = MinMaxScaler()\n",
    "\n",
    "# experiment\n",
    "num_folds = 10\n",
    "num_runs = 10\n",
    "label = 'Died'\n",
    "\n",
    "# num feature selection\n",
    "num_features = 10\n",
    "\n",
    "# classifier\n",
    "model = SGDClassifier(loss=\"log\", penalty=\"l2\", random_state=seed)\n",
    "\n",
    "top_markers_to_viz = 10      #set num marker gene\n",
    "\n",
    "#Load 108 DEGs\n",
    "if degs_file is not None:\n",
    "    DEGs = load_DEGs(degs_file)\n",
    "    print('{} DEGs loaded!'.format(len(DEGs)))\n",
    "else:\n",
    "    print('No DEGs provided. Pipeline will consider all genes.')\n"
   ]
  },
  {
   "cell_type": "code",
   "execution_count": 3,
   "id": "3c5f074f",
   "metadata": {},
   "outputs": [
    {
     "name": "stdout",
     "output_type": "stream",
     "text": [
      "Shape of ./data/GSE66099.csv is (199, 10603)\n",
      "Genes Normalized..\n",
      "108\n",
      "199\n"
     ]
    },
    {
     "data": {
      "text/html": [
       "<div>\n",
       "<style scoped>\n",
       "    .dataframe tbody tr th:only-of-type {\n",
       "        vertical-align: middle;\n",
       "    }\n",
       "\n",
       "    .dataframe tbody tr th {\n",
       "        vertical-align: top;\n",
       "    }\n",
       "\n",
       "    .dataframe thead th {\n",
       "        text-align: right;\n",
       "    }\n",
       "</style>\n",
       "<table border=\"1\" class=\"dataframe\">\n",
       "  <thead>\n",
       "    <tr style=\"text-align: right;\">\n",
       "      <th></th>\n",
       "      <th>SLC39A8</th>\n",
       "      <th>RHAG</th>\n",
       "      <th>DDIT4</th>\n",
       "      <th>MPO</th>\n",
       "      <th>RRM2</th>\n",
       "      <th>CCL3</th>\n",
       "      <th>MAFF</th>\n",
       "      <th>TYMS</th>\n",
       "      <th>ENPP2</th>\n",
       "      <th>KIAA0101</th>\n",
       "      <th>...</th>\n",
       "      <th>CD302</th>\n",
       "      <th>NUAK2</th>\n",
       "      <th>RCBTB2</th>\n",
       "      <th>EMR3</th>\n",
       "      <th>HSPA6</th>\n",
       "      <th>FGL2</th>\n",
       "      <th>RGS2</th>\n",
       "      <th>CPVL</th>\n",
       "      <th>CCR2</th>\n",
       "      <th>TGFBI</th>\n",
       "    </tr>\n",
       "  </thead>\n",
       "  <tbody>\n",
       "    <tr>\n",
       "      <th>0</th>\n",
       "      <td>7.837760</td>\n",
       "      <td>4.112866</td>\n",
       "      <td>8.046405</td>\n",
       "      <td>2.324069</td>\n",
       "      <td>4.759059</td>\n",
       "      <td>3.140721</td>\n",
       "      <td>8.578116</td>\n",
       "      <td>5.230842</td>\n",
       "      <td>3.862937</td>\n",
       "      <td>5.590981</td>\n",
       "      <td>...</td>\n",
       "      <td>8.448658</td>\n",
       "      <td>7.988770</td>\n",
       "      <td>8.358142</td>\n",
       "      <td>2.135084</td>\n",
       "      <td>9.884938</td>\n",
       "      <td>11.812192</td>\n",
       "      <td>8.859253</td>\n",
       "      <td>5.722329</td>\n",
       "      <td>7.817754</td>\n",
       "      <td>4.143039</td>\n",
       "    </tr>\n",
       "    <tr>\n",
       "      <th>1</th>\n",
       "      <td>7.751983</td>\n",
       "      <td>1.485795</td>\n",
       "      <td>8.971049</td>\n",
       "      <td>5.258546</td>\n",
       "      <td>7.684430</td>\n",
       "      <td>2.811141</td>\n",
       "      <td>4.715507</td>\n",
       "      <td>7.567845</td>\n",
       "      <td>3.212268</td>\n",
       "      <td>6.279265</td>\n",
       "      <td>...</td>\n",
       "      <td>8.094179</td>\n",
       "      <td>7.694309</td>\n",
       "      <td>7.057639</td>\n",
       "      <td>1.673705</td>\n",
       "      <td>8.728279</td>\n",
       "      <td>9.303093</td>\n",
       "      <td>10.367759</td>\n",
       "      <td>6.251313</td>\n",
       "      <td>8.707475</td>\n",
       "      <td>4.977650</td>\n",
       "    </tr>\n",
       "    <tr>\n",
       "      <th>2</th>\n",
       "      <td>10.279053</td>\n",
       "      <td>1.925620</td>\n",
       "      <td>8.712714</td>\n",
       "      <td>1.856427</td>\n",
       "      <td>5.890788</td>\n",
       "      <td>5.947866</td>\n",
       "      <td>9.109963</td>\n",
       "      <td>6.066830</td>\n",
       "      <td>3.086101</td>\n",
       "      <td>4.688248</td>\n",
       "      <td>...</td>\n",
       "      <td>6.664949</td>\n",
       "      <td>6.276276</td>\n",
       "      <td>5.362376</td>\n",
       "      <td>1.706595</td>\n",
       "      <td>8.115265</td>\n",
       "      <td>11.027659</td>\n",
       "      <td>8.161037</td>\n",
       "      <td>2.841639</td>\n",
       "      <td>2.932313</td>\n",
       "      <td>4.036440</td>\n",
       "    </tr>\n",
       "    <tr>\n",
       "      <th>3</th>\n",
       "      <td>9.601609</td>\n",
       "      <td>5.888388</td>\n",
       "      <td>8.527441</td>\n",
       "      <td>5.750055</td>\n",
       "      <td>8.206514</td>\n",
       "      <td>5.134266</td>\n",
       "      <td>5.156271</td>\n",
       "      <td>8.057016</td>\n",
       "      <td>2.684719</td>\n",
       "      <td>7.520501</td>\n",
       "      <td>...</td>\n",
       "      <td>9.473646</td>\n",
       "      <td>7.701587</td>\n",
       "      <td>6.420084</td>\n",
       "      <td>1.464756</td>\n",
       "      <td>9.028702</td>\n",
       "      <td>9.271985</td>\n",
       "      <td>9.948187</td>\n",
       "      <td>6.095365</td>\n",
       "      <td>8.859346</td>\n",
       "      <td>4.616064</td>\n",
       "    </tr>\n",
       "    <tr>\n",
       "      <th>4</th>\n",
       "      <td>7.785195</td>\n",
       "      <td>4.846312</td>\n",
       "      <td>9.301229</td>\n",
       "      <td>8.695507</td>\n",
       "      <td>10.032503</td>\n",
       "      <td>6.555199</td>\n",
       "      <td>8.041716</td>\n",
       "      <td>9.813448</td>\n",
       "      <td>7.125344</td>\n",
       "      <td>7.953979</td>\n",
       "      <td>...</td>\n",
       "      <td>6.593451</td>\n",
       "      <td>8.225254</td>\n",
       "      <td>7.090539</td>\n",
       "      <td>1.704964</td>\n",
       "      <td>7.833078</td>\n",
       "      <td>10.653802</td>\n",
       "      <td>8.848570</td>\n",
       "      <td>4.970816</td>\n",
       "      <td>5.720992</td>\n",
       "      <td>6.542890</td>\n",
       "    </tr>\n",
       "    <tr>\n",
       "      <th>...</th>\n",
       "      <td>...</td>\n",
       "      <td>...</td>\n",
       "      <td>...</td>\n",
       "      <td>...</td>\n",
       "      <td>...</td>\n",
       "      <td>...</td>\n",
       "      <td>...</td>\n",
       "      <td>...</td>\n",
       "      <td>...</td>\n",
       "      <td>...</td>\n",
       "      <td>...</td>\n",
       "      <td>...</td>\n",
       "      <td>...</td>\n",
       "      <td>...</td>\n",
       "      <td>...</td>\n",
       "      <td>...</td>\n",
       "      <td>...</td>\n",
       "      <td>...</td>\n",
       "      <td>...</td>\n",
       "      <td>...</td>\n",
       "      <td>...</td>\n",
       "    </tr>\n",
       "    <tr>\n",
       "      <th>194</th>\n",
       "      <td>7.181331</td>\n",
       "      <td>2.365467</td>\n",
       "      <td>8.184828</td>\n",
       "      <td>6.181315</td>\n",
       "      <td>7.871825</td>\n",
       "      <td>2.929050</td>\n",
       "      <td>4.431776</td>\n",
       "      <td>7.034406</td>\n",
       "      <td>3.780909</td>\n",
       "      <td>6.776981</td>\n",
       "      <td>...</td>\n",
       "      <td>10.070218</td>\n",
       "      <td>8.961620</td>\n",
       "      <td>9.165776</td>\n",
       "      <td>4.359999</td>\n",
       "      <td>9.826060</td>\n",
       "      <td>12.136311</td>\n",
       "      <td>11.699008</td>\n",
       "      <td>8.973876</td>\n",
       "      <td>10.186479</td>\n",
       "      <td>7.998090</td>\n",
       "    </tr>\n",
       "    <tr>\n",
       "      <th>195</th>\n",
       "      <td>5.251613</td>\n",
       "      <td>2.714796</td>\n",
       "      <td>6.427088</td>\n",
       "      <td>3.523980</td>\n",
       "      <td>7.221401</td>\n",
       "      <td>2.154800</td>\n",
       "      <td>7.541867</td>\n",
       "      <td>7.252205</td>\n",
       "      <td>2.629904</td>\n",
       "      <td>5.149909</td>\n",
       "      <td>...</td>\n",
       "      <td>7.966326</td>\n",
       "      <td>10.124670</td>\n",
       "      <td>8.929071</td>\n",
       "      <td>5.286965</td>\n",
       "      <td>11.191417</td>\n",
       "      <td>10.300791</td>\n",
       "      <td>12.054893</td>\n",
       "      <td>5.030908</td>\n",
       "      <td>7.810187</td>\n",
       "      <td>4.979873</td>\n",
       "    </tr>\n",
       "    <tr>\n",
       "      <th>196</th>\n",
       "      <td>5.905524</td>\n",
       "      <td>8.074482</td>\n",
       "      <td>6.259182</td>\n",
       "      <td>2.492298</td>\n",
       "      <td>5.146876</td>\n",
       "      <td>1.794615</td>\n",
       "      <td>8.769124</td>\n",
       "      <td>4.142922</td>\n",
       "      <td>2.246056</td>\n",
       "      <td>3.771786</td>\n",
       "      <td>...</td>\n",
       "      <td>8.859861</td>\n",
       "      <td>8.749832</td>\n",
       "      <td>7.340047</td>\n",
       "      <td>3.792716</td>\n",
       "      <td>9.980401</td>\n",
       "      <td>10.117659</td>\n",
       "      <td>11.990752</td>\n",
       "      <td>8.142582</td>\n",
       "      <td>9.141700</td>\n",
       "      <td>8.446067</td>\n",
       "    </tr>\n",
       "    <tr>\n",
       "      <th>197</th>\n",
       "      <td>4.786756</td>\n",
       "      <td>2.279402</td>\n",
       "      <td>5.955421</td>\n",
       "      <td>8.199064</td>\n",
       "      <td>8.008226</td>\n",
       "      <td>3.352024</td>\n",
       "      <td>5.653967</td>\n",
       "      <td>7.454457</td>\n",
       "      <td>2.954322</td>\n",
       "      <td>6.091752</td>\n",
       "      <td>...</td>\n",
       "      <td>9.900709</td>\n",
       "      <td>9.382461</td>\n",
       "      <td>8.536407</td>\n",
       "      <td>6.077819</td>\n",
       "      <td>10.639624</td>\n",
       "      <td>11.693861</td>\n",
       "      <td>12.093385</td>\n",
       "      <td>8.897881</td>\n",
       "      <td>8.854635</td>\n",
       "      <td>9.477510</td>\n",
       "    </tr>\n",
       "    <tr>\n",
       "      <th>198</th>\n",
       "      <td>4.722408</td>\n",
       "      <td>1.882598</td>\n",
       "      <td>5.801993</td>\n",
       "      <td>1.993536</td>\n",
       "      <td>5.432369</td>\n",
       "      <td>2.500910</td>\n",
       "      <td>3.562274</td>\n",
       "      <td>4.493001</td>\n",
       "      <td>2.635489</td>\n",
       "      <td>4.323308</td>\n",
       "      <td>...</td>\n",
       "      <td>9.858388</td>\n",
       "      <td>9.707588</td>\n",
       "      <td>8.030663</td>\n",
       "      <td>5.118541</td>\n",
       "      <td>9.219572</td>\n",
       "      <td>11.097348</td>\n",
       "      <td>11.566279</td>\n",
       "      <td>8.862417</td>\n",
       "      <td>9.642461</td>\n",
       "      <td>9.852480</td>\n",
       "    </tr>\n",
       "  </tbody>\n",
       "</table>\n",
       "<p>199 rows × 108 columns</p>\n",
       "</div>"
      ],
      "text/plain": [
       "       SLC39A8      RHAG     DDIT4       MPO       RRM2      CCL3      MAFF  \\\n",
       "0     7.837760  4.112866  8.046405  2.324069   4.759059  3.140721  8.578116   \n",
       "1     7.751983  1.485795  8.971049  5.258546   7.684430  2.811141  4.715507   \n",
       "2    10.279053  1.925620  8.712714  1.856427   5.890788  5.947866  9.109963   \n",
       "3     9.601609  5.888388  8.527441  5.750055   8.206514  5.134266  5.156271   \n",
       "4     7.785195  4.846312  9.301229  8.695507  10.032503  6.555199  8.041716   \n",
       "..         ...       ...       ...       ...        ...       ...       ...   \n",
       "194   7.181331  2.365467  8.184828  6.181315   7.871825  2.929050  4.431776   \n",
       "195   5.251613  2.714796  6.427088  3.523980   7.221401  2.154800  7.541867   \n",
       "196   5.905524  8.074482  6.259182  2.492298   5.146876  1.794615  8.769124   \n",
       "197   4.786756  2.279402  5.955421  8.199064   8.008226  3.352024  5.653967   \n",
       "198   4.722408  1.882598  5.801993  1.993536   5.432369  2.500910  3.562274   \n",
       "\n",
       "         TYMS     ENPP2  KIAA0101  ...      CD302      NUAK2    RCBTB2  \\\n",
       "0    5.230842  3.862937  5.590981  ...   8.448658   7.988770  8.358142   \n",
       "1    7.567845  3.212268  6.279265  ...   8.094179   7.694309  7.057639   \n",
       "2    6.066830  3.086101  4.688248  ...   6.664949   6.276276  5.362376   \n",
       "3    8.057016  2.684719  7.520501  ...   9.473646   7.701587  6.420084   \n",
       "4    9.813448  7.125344  7.953979  ...   6.593451   8.225254  7.090539   \n",
       "..        ...       ...       ...  ...        ...        ...       ...   \n",
       "194  7.034406  3.780909  6.776981  ...  10.070218   8.961620  9.165776   \n",
       "195  7.252205  2.629904  5.149909  ...   7.966326  10.124670  8.929071   \n",
       "196  4.142922  2.246056  3.771786  ...   8.859861   8.749832  7.340047   \n",
       "197  7.454457  2.954322  6.091752  ...   9.900709   9.382461  8.536407   \n",
       "198  4.493001  2.635489  4.323308  ...   9.858388   9.707588  8.030663   \n",
       "\n",
       "         EMR3      HSPA6       FGL2       RGS2      CPVL       CCR2     TGFBI  \n",
       "0    2.135084   9.884938  11.812192   8.859253  5.722329   7.817754  4.143039  \n",
       "1    1.673705   8.728279   9.303093  10.367759  6.251313   8.707475  4.977650  \n",
       "2    1.706595   8.115265  11.027659   8.161037  2.841639   2.932313  4.036440  \n",
       "3    1.464756   9.028702   9.271985   9.948187  6.095365   8.859346  4.616064  \n",
       "4    1.704964   7.833078  10.653802   8.848570  4.970816   5.720992  6.542890  \n",
       "..        ...        ...        ...        ...       ...        ...       ...  \n",
       "194  4.359999   9.826060  12.136311  11.699008  8.973876  10.186479  7.998090  \n",
       "195  5.286965  11.191417  10.300791  12.054893  5.030908   7.810187  4.979873  \n",
       "196  3.792716   9.980401  10.117659  11.990752  8.142582   9.141700  8.446067  \n",
       "197  6.077819  10.639624  11.693861  12.093385  8.897881   8.854635  9.477510  \n",
       "198  5.118541   9.219572  11.097348  11.566279  8.862417   9.642461  9.852480  \n",
       "\n",
       "[199 rows x 108 columns]"
      ]
     },
     "execution_count": 3,
     "metadata": {},
     "output_type": "execute_result"
    }
   ],
   "source": [
    "# Load and Normalize data\n",
    "\n",
    "df = pd.read_csv(data_file)\n",
    "print('Shape of {0} is {1}'.format(data_file, df.shape))\n",
    "y = df[label]\n",
    "if degs_file is not None:\n",
    "    df = df[DEGs]\n",
    "else:\n",
    "    df =df.drop([label],axis=1)\n",
    "names = df.columns\n",
    "X = df.values\n",
    "\n",
    "# normalize data via column\n",
    "X = norm_filter.fit_transform(X, y)\n",
    "print('Genes Normalized..')\n",
    "print(len(X[0]))\n",
    "print(len(y))\n",
    "df"
   ]
  },
  {
   "cell_type": "code",
   "execution_count": 4,
   "id": "0243c220",
   "metadata": {},
   "outputs": [],
   "source": [
    "# from sklearn.preprocessing import StandardScaler\n",
    "# df = StandardScaler().fit_transform(df)"
   ]
  },
  {
   "cell_type": "code",
   "execution_count": 5,
   "id": "19c397c3",
   "metadata": {},
   "outputs": [
    {
     "data": {
      "text/plain": [
       "(199, 40)"
      ]
     },
     "execution_count": 5,
     "metadata": {},
     "output_type": "execute_result"
    }
   ],
   "source": [
    "#apply PCA\n",
    "results = pca.fit_transform(X)\n",
    "results.shape"
   ]
  },
  {
   "cell_type": "code",
   "execution_count": 6,
   "id": "240d443f",
   "metadata": {},
   "outputs": [],
   "source": [
    "from sklearn import svm\n",
    "clf = svm.SVC()"
   ]
  },
  {
   "cell_type": "code",
   "execution_count": 7,
   "id": "095a7a1d",
   "metadata": {},
   "outputs": [
    {
     "data": {
      "text/plain": [
       "(-0.1685062251092727, 0.12653718629752864)"
      ]
     },
     "execution_count": 7,
     "metadata": {},
     "output_type": "execute_result"
    }
   ],
   "source": [
    "#apply Lasso degenerate the parameters\n",
    "from sklearn.linear_model import Lasso\n",
    "\n",
    "lass = Lasso(\n",
    "    max_iter=3000,\n",
    "    alpha= 0.00281,\n",
    "    random_state= 5,\n",
    ")\n",
    "lass.fit(df,y)\n",
    "lass.coef_.min(), lass.coef_.max()\n"
   ]
  },
  {
   "cell_type": "code",
   "execution_count": 8,
   "id": "48e0eebc",
   "metadata": {},
   "outputs": [
    {
     "data": {
      "text/plain": [
       "Text(0.5, 1.0, 'Coefficients in the Lasso Model')"
      ]
     },
     "execution_count": 8,
     "metadata": {},
     "output_type": "execute_result"
    },
    {
     "data": {
      "image/png": "[encoded data removed]",
      "text/plain": [
       "<Figure size 576x720 with 1 Axes>"
      ]
     },
     "metadata": {
      "needs_background": "light"
     },
     "output_type": "display_data"
    }
   ],
   "source": [
    "#lass feature importances\n",
    "coef = pd.Series(lass.coef_, index = df.columns)\n",
    "imp_coef = pd.concat([coef.sort_values().head(30),\n",
    "                     coef.sort_values().tail(30)])\n",
    "mpl.rcParams['figure.figsize'] = (8.0, 10.0)\n",
    "imp_coef.plot(kind = \"barh\")\n",
    "plt.title(\"Coefficients in the Lasso Model\")"
   ]
  },
  {
   "cell_type": "code",
   "execution_count": 10,
   "id": "6b572dca",
   "metadata": {},
   "outputs": [
    {
     "name": "stdout",
     "output_type": "stream",
     "text": [
      "Features reduced from        108 to         66\n"
     ]
    }
   ],
   "source": [
    "good_feats = np.abs(np.array(lass.coef_)) > 0\n",
    "print(\"Features reduced from %10d to %10d\" % (df.shape[1], int(good_feats.sum())))"
   ]
  },
  {
   "cell_type": "code",
   "execution_count": 11,
   "id": "a369f544",
   "metadata": {},
   "outputs": [],
   "source": [
    "train_lasso_select = df.iloc[:, good_feats]\n",
    "train_lasso_select.to_csv('train_lasso_select.csv',index=False)\n"
   ]
  },
  {
   "cell_type": "code",
   "execution_count": 12,
   "id": "b1e6d9a0",
   "metadata": {},
   "outputs": [
    {
     "name": "stderr",
     "output_type": "stream",
     "text": [
      "C:\\Users\\vuduc\\anaconda3\\lib\\site-packages\\xgboost\\sklearn.py:1224: UserWarning: The use of label encoder in XGBClassifier is deprecated and will be removed in a future release. To remove this warning, do the following: 1) Pass option use_label_encoder=False when constructing XGBClassifier object; and 2) Encode your labels (y) as integers starting with 0, i.e. 0, 1, 2, ..., [num_class - 1].\n",
      "  warnings.warn(label_encoder_deprecation_msg, UserWarning)\n"
     ]
    },
    {
     "name": "stdout",
     "output_type": "stream",
     "text": [
      "[16:50:39] WARNING: C:/Users/Administrator/workspace/xgboost-win64_release_1.5.1/src/learner.cc:1115: Starting in XGBoost 1.3.0, the default evaluation metric used with the objective 'binary:logistic' was changed from 'error' to 'logloss'. Explicitly set eval_metric if you'd like to restore the old behavior.\n"
     ]
    },
    {
     "data": {
      "text/plain": [
       "XGBClassifier(base_score=0.5, booster='gbtree', colsample_bylevel=1,\n",
       "              colsample_bynode=1, colsample_bytree=1, enable_categorical=False,\n",
       "              gamma=0, gpu_id=-1, importance_type=None,\n",
       "              interaction_constraints='', learning_rate=0.01, max_delta_step=0,\n",
       "              max_depth=5, min_child_weight=1, missing=nan,\n",
       "              monotone_constraints='()', n_estimators=1000, n_jobs=8,\n",
       "              num_parallel_tree=1, predictor='auto', random_state=0,\n",
       "              reg_alpha=0, reg_lambda=1, scale_pos_weight=1, subsample=1,\n",
       "              tree_method='exact', validate_parameters=1, verbosity=None)"
      ]
     },
     "execution_count": 12,
     "metadata": {},
     "output_type": "execute_result"
    }
   ],
   "source": [
    "# Using xgboost to plot importance\n",
    "from xgboost import XGBClassifier,plot_importance\n",
    "model = XGBClassifier(max_depth=5,n_estimators=1000,learning_rate=1e-2)\n",
    "model.fit(df,y)"
   ]
  },
  {
   "cell_type": "code",
   "execution_count": 13,
   "id": "d6f2428e",
   "metadata": {},
   "outputs": [
    {
     "data": {
      "image/png": "[encoded data removed]",
      "text/plain": [
       "<Figure size 576x720 with 1 Axes>"
      ]
     },
     "metadata": {
      "needs_background": "light"
     },
     "output_type": "display_data"
    }
   ],
   "source": [
    "plot_importance(model,max_num_features=30)\n",
    "plt.show()"
   ]
  },
  {
   "cell_type": "code",
   "execution_count": null,
   "id": "e8a6e5e4",
   "metadata": {},
   "outputs": [],
   "source": []
  }
 ],
 "metadata": {
  "kernelspec": {
   "display_name": "Python 3",
   "language": "python",
   "name": "python3"
  },
  "language_info": {
   "codemirror_mode": {
    "name": "ipython",
    "version": 3
   },
   "file_extension": ".py",
   "mimetype": "text/x-python",
   "name": "python",
   "nbconvert_exporter": "python",
   "pygments_lexer": "ipython3",
   "version": "3.8.8"
  }
 },
 "nbformat": 4,
 "nbformat_minor": 5
}
